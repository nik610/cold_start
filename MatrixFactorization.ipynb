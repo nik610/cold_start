{
 "cells": [
  {
   "cell_type": "code",
   "execution_count": 1,
   "metadata": {},
   "outputs": [
    {
     "name": "stdout",
     "output_type": "stream",
     "text": [
      "Rating predictions. Progress status : 100.0%\n",
      "Total Loss:  2216.75\n",
      "Loss per user:  3.63\n"
     ]
    }
   ],
   "source": [
    "import os\n",
    "import pandas as pd\n",
    "import numpy as np\n",
    "import matplotlib.pyplot as plt\n",
    "import seaborn as sns\n",
    "from scipy.sparse.linalg import svds\n",
    "from sklearn.metrics import mean_squared_error\n",
    "import sys\n",
    "\n",
    "def svdModel(mtrx_df):\n",
    "    mtrx = mtrx_df.to_numpy()\n",
    "    ratings_mean = np.mean(mtrx, axis = 1)\n",
    "    normalized_mtrx = mtrx - ratings_mean.reshape(-1, 1)\n",
    "\n",
    "    U, sigma, Vt = svds(normalized_mtrx, k = 2)\n",
    "    sigma = np.diag(sigma)\n",
    "    all_predicted_ratings = np.dot(np.dot(U, sigma), Vt) + ratings_mean.reshape(-1, 1)\n",
    "    preds_df = pd.DataFrame(all_predicted_ratings, columns = ['userId', 'movieId', 'predictedRating'])\n",
    "    columns_to_convert = ['userId', 'movieId']\n",
    "    preds_df[columns_to_convert] = preds_df[columns_to_convert].astype(int)\n",
    "    return preds_df\n",
    "\n",
    "def _progress(num, users):\n",
    "    sys.stdout.write('\\rRating predictions. Progress status : %.1f%%' % (float(num/len(users))*100.0))\n",
    "    sys.stdout.flush()\n",
    "\n",
    "# Load data\n",
    "ratings = pd.read_csv('/Users/bharath/Documents/Fall 2023/578 - stats ml/project/ratings.csv').iloc[:,:3]\n",
    "\n",
    "\n",
    "tot_loss, num = 0, 0\n",
    "users = list(set(list(ratings['userId'])))\n",
    "\n",
    "for n in users:\n",
    "    n_5_ratings = ratings[ratings['userId'] == n].iloc[0:5].reset_index(drop=True)\n",
    "    n_rest_ratings = ratings[ratings['userId'] == n].iloc[5:].reset_index(drop=True)\n",
    "    not_n_ratings = ratings[ratings['userId'] != n].reset_index(drop=True)\n",
    "    input_ratings = pd.concat([n_5_ratings, not_n_ratings], ignore_index=True)\n",
    "    \n",
    "    prediction_df = svdModel(input_ratings)\n",
    "    comparison_df = pd.merge(n_rest_ratings, prediction_df,  how='inner', on=['userId','movieId'])\n",
    "\n",
    "    if not comparison_df.empty:\n",
    "        true_ratings = list(comparison_df['rating'])\n",
    "        predicted_ratings = list(comparison_df['predictedRating'])\n",
    "        tot_loss += mean_squared_error(true_ratings, predicted_ratings) * len(true_ratings)\n",
    "\n",
    "    num += 1\n",
    "    _progress(num, users)\n",
    "\n",
    "print('\\nTotal Loss: ', round(tot_loss, 2))\n",
    "print('Loss per user: ', round(tot_loss/len(users), 2))\n",
    "\n",
    "#Rating predictions. Progress status : 100.0%\n",
    "#Total Loss:  2216.75\n",
    "#Loss per user:  3.63"
   ]
  },
  {
   "cell_type": "code",
   "execution_count": null,
   "metadata": {},
   "outputs": [],
   "source": []
  }
 ],
 "metadata": {
  "kernelspec": {
   "display_name": "Python 3",
   "language": "python",
   "name": "python3"
  },
  "language_info": {
   "codemirror_mode": {
    "name": "ipython",
    "version": 3
   },
   "file_extension": ".py",
   "mimetype": "text/x-python",
   "name": "python",
   "nbconvert_exporter": "python",
   "pygments_lexer": "ipython3",
   "version": "3.8.5"
  }
 },
 "nbformat": 4,
 "nbformat_minor": 4
}
