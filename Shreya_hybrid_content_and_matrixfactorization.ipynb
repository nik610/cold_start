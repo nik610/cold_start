{
 "cells": [
  {
   "cell_type": "code",
   "execution_count": 27,
   "id": "397250af",
   "metadata": {
    "scrolled": true
   },
   "outputs": [
    {
     "name": "stdout",
     "output_type": "stream",
     "text": [
      "Requirement already satisfied: scikit-surprise in ./opt/anaconda3/lib/python3.9/site-packages (1.1.3)\r\n",
      "Requirement already satisfied: numpy>=1.17.3 in ./opt/anaconda3/lib/python3.9/site-packages (from scikit-surprise) (1.21.5)\r\n",
      "Requirement already satisfied: joblib>=1.0.0 in ./opt/anaconda3/lib/python3.9/site-packages (from scikit-surprise) (1.1.0)\r\n",
      "Requirement already satisfied: scipy>=1.3.2 in ./opt/anaconda3/lib/python3.9/site-packages (from scikit-surprise) (1.9.1)\r\n"
     ]
    }
   ],
   "source": [
    "!pip install scikit-surprise\n",
    "import pandas as pd\n",
    "from sklearn.feature_extraction.text import TfidfVectorizer\n",
    "from sklearn.metrics.pairwise import linear_kernel\n",
    "from surprise import Reader, Dataset, SVD\n",
    "from surprise.model_selection import cross_validate\n",
    "from sklearn.metrics import mean_squared_error\n",
    "import numpy as np\n"
   ]
  },
  {
   "cell_type": "code",
   "execution_count": 28,
   "id": "265a47ef",
   "metadata": {},
   "outputs": [],
   "source": [
    "movies = pd.read_csv('/Users/shreya/Desktop/sem2/cs578/project/movies.csv', sep=',', usecols=['movieId', 'title', 'genres'], encoding='latin-1')\n",
    "ratings = pd.read_csv('/Users/shreya/Desktop/sem2/cs578/project/ratings.csv', sep=',', usecols=['userId', 'movieId', 'rating', 'timestamp'], encoding='latin-1')\n",
    "\n"
   ]
  },
  {
   "cell_type": "code",
   "execution_count": 29,
   "id": "8273f116",
   "metadata": {},
   "outputs": [],
   "source": [
    "def content_model_recommendation(userId, movies, ratings):\n",
    "    tfimovies_matr = TfidfVectorizer(token_pattern='[a-zA-Z0-9\\-]+').fit_transform(\n",
    "        movies['genres'].replace(\"(no genres listed)\", \"\"))\n",
    "    movie_cosinesimilarity = linear_kernel(tfimovies_matr, tfimovies_matr)\n",
    "    movie_recommendations = set()\n",
    "    movies_list = []\n",
    "    for _, r in ratings[ratings[\"userId\"] == userId].iterrows():\n",
    "        movie_name = movies.loc[movies['movieId'] == r['movieId'], 'title'].values[0]\n",
    "        movies_list.append(movie_name)\n",
    "        movie_index = movies.loc[movies['title'] == movie_name].index\n",
    "        movie_similarity_scores = sorted(enumerate(movie_cosinesimilarity[movie_index][0]), key=lambda x: x[1],\n",
    "                                         reverse=True)[1:3]\n",
    "        movie_recommendations.update(movies['title'].iloc[[i[0] for i in movie_similarity_scores]])\n",
    "    movie_recommendations.difference_update(movies_list)\n",
    "    return movie_recommendations\n",
    "\n"
   ]
  },
  {
   "cell_type": "code",
   "execution_count": 30,
   "id": "98d5e8da",
   "metadata": {},
   "outputs": [],
   "source": [
    "def hybrid_model(user_id, input_ratings):\n",
    "    recommended_movies = content_model_recommendation(user_id, movies, input_ratings)\n",
    "    recommended_movies = movies[movies['title'].isin(recommended_movies)].copy()  # Create a copy\n",
    "    \n",
    "    data = Dataset.load_from_df(input_ratings[['userId', 'movieId', 'rating']], Reader())\n",
    "    svd = SVD()\n",
    "    trainset = data.build_full_trainset()\n",
    "    svd.fit(trainset) \n",
    "    recommended_movie_ids = recommended_movies['movieId'].unique()\n",
    "    dfs = []\n",
    "    for movie_id in recommended_movie_ids:\n",
    "        predicted_rating = svd.predict(user_id, movie_id).est\n",
    "        dfs.append(pd.DataFrame({'userId': [user_id], 'movieId': [movie_id], 'predictedRating': [predicted_rating]}))\n",
    "    result_df = pd.concat(dfs, ignore_index=True)\n",
    "    result_df = result_df.sort_values(by='predictedRating', ascending=False).head(20)\n",
    "    return result_df  \n"
   ]
  },
  {
   "cell_type": "code",
   "execution_count": 32,
   "id": "4b900a62",
   "metadata": {},
   "outputs": [
    {
     "name": "stdout",
     "output_type": "stream",
     "text": [
      "Rating predictions. Progress status: 100.0%\n",
      "Total Loss: 390.76\n",
      "Loss per user: 0.64\n"
     ]
    }
   ],
   "source": [
    "import sys\n",
    "from sklearn.metrics import mean_squared_error\n",
    "\n",
    "def _progress(num, users):\n",
    "    sys.stdout.write('\\rRating predictions. Progress status: %.1f%%' % (float(num / len(users)) * 100.0))\n",
    "    sys.stdout.flush()\n",
    "\n",
    "tot_loss, num = 0, 0\n",
    "users = list(set(list(ratings['userId'])))\n",
    "\n",
    "for n in users:\n",
    "    n_5_ratings = ratings[ratings['userId'] == n].iloc[0:5].reset_index(drop=True)\n",
    "    n_rest_ratings = ratings[ratings['userId'] == n].iloc[5:].reset_index(drop=True)\n",
    "    not_n_ratings = ratings[ratings['userId'] != n].reset_index(drop=True)\n",
    "    input_ratings = pd.concat([n_5_ratings, not_n_ratings], ignore_index=True)\n",
    "    df = hybrid_model(n, input_ratings,)\n",
    "    \n",
    "    \n",
    "    comparison_df = pd.merge(n_rest_ratings, df, how='inner', on=['userId', 'movieId'])   \n",
    "    comparison_df = comparison_df[['userId', 'movieId', 'rating', 'predictedRating']]  \n",
    "    if not comparison_df.empty:\n",
    "        true_ratings = list(comparison_df['rating'])\n",
    "        predicted_ratings = list(comparison_df['predictedRating'])\n",
    "        tot_loss += mean_squared_error(true_ratings, predicted_ratings) * len(true_ratings)\n",
    "    num += 1\n",
    "    _progress(num, users)\n",
    "\n",
    "print('\\nTotal Loss:', round(tot_loss, 2))\n",
    "print('Loss per user:', round(tot_loss / len(users), 2))\n",
    "\n",
    "# Total Loss: 390.76\n",
    "# Loss per user: 0.64"
   ]
  },
  {
   "cell_type": "code",
   "execution_count": null,
   "id": "f9e05e5c",
   "metadata": {},
   "outputs": [],
   "source": []
  },
  {
   "cell_type": "code",
   "execution_count": null,
   "id": "25bfb453",
   "metadata": {},
   "outputs": [],
   "source": []
  }
 ],
 "metadata": {
  "kernelspec": {
   "display_name": "Python 3 (ipykernel)",
   "language": "python",
   "name": "python3"
  },
  "language_info": {
   "codemirror_mode": {
    "name": "ipython",
    "version": 3
   },
   "file_extension": ".py",
   "mimetype": "text/x-python",
   "name": "python",
   "nbconvert_exporter": "python",
   "pygments_lexer": "ipython3",
   "version": "3.9.13"
  }
 },
 "nbformat": 4,
 "nbformat_minor": 5
}
